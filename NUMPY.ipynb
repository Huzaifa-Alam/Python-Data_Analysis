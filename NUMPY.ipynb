{
  "nbformat": 4,
  "nbformat_minor": 0,
  "metadata": {
    "colab": {
      "provenance": [],
      "collapsed_sections": [
        "xTUuPyT6ie4r",
        "2QWxUdtnB5s5",
        "Fka6QLKpBt3c",
        "KuhSc8s1KfZq",
        "L-ELttY5N42f",
        "AYb5y9hqUVQ7",
        "-ImjmyF-VqRF",
        "UBiT-5p6iYiX"
      ],
      "authorship_tag": "ABX9TyNy1w59rgwDvG614ydxBdrH",
      "include_colab_link": true
    },
    "kernelspec": {
      "name": "python3",
      "display_name": "Python 3"
    },
    "language_info": {
      "name": "python"
    }
  },
  "cells": [
    {
      "cell_type": "markdown",
      "metadata": {
        "id": "view-in-github",
        "colab_type": "text"
      },
      "source": [
        "<a href=\"https://colab.research.google.com/github/Huzaifa-Alam/Python-Data_Analysis/blob/main/NUMPY.ipynb\" target=\"_parent\"><img src=\"https://colab.research.google.com/assets/colab-badge.svg\" alt=\"Open In Colab\"/></a>"
      ]
    },
    {
      "cell_type": "code",
      "source": [
        "# why we dont use python list instead of numpy array\n",
        "\n",
        "# 1) list contain diiferent data types at once like[ 1 ,\"huzaifa\" ,True  , 1.1]\n",
        "# where as numpy only contain one data type like[ \"huzaifa\" \"ahmed\" , \"owais\"] which make it more eficient\n",
        "                                             # [1,2,3,4,5]\n",
        "\n",
        "# WHY SHOULD WE USE NUMPY\n",
        "# it's 300 times faster than pyhton list\n",
        "# take less memory to store data\n",
        "\n",
        "\n"
      ],
      "metadata": {
        "id": "qw9rZAuia8OK"
      },
      "execution_count": null,
      "outputs": []
    },
    {
      "cell_type": "code",
      "execution_count": null,
      "metadata": {
        "id": "qX9OoEBEagIw"
      },
      "outputs": [],
      "source": [
        "import numpy as np"
      ]
    },
    {
      "cell_type": "code",
      "source": [
        "arr = np.array([1,2,3])\n",
        "arr"
      ],
      "metadata": {
        "colab": {
          "base_uri": "https://localhost:8080/"
        },
        "id": "qJBeckuIaoG-",
        "outputId": "64d2303b-5736-4a5c-c6d6-414e7f06695a"
      },
      "execution_count": null,
      "outputs": [
        {
          "output_type": "execute_result",
          "data": {
            "text/plain": [
              "array([1, 2, 3])"
            ]
          },
          "metadata": {},
          "execution_count": 2
        }
      ]
    },
    {
      "cell_type": "markdown",
      "source": [
        "# list VS numpy arrays"
      ],
      "metadata": {
        "id": "xTUuPyT6ie4r"
      }
    },
    {
      "cell_type": "code",
      "source": [
        "python_list = [1 , \"huzaifa\" , True , 22.1]\n",
        "python_list"
      ],
      "metadata": {
        "colab": {
          "base_uri": "https://localhost:8080/"
        },
        "id": "fKALcW0Iaqx_",
        "outputId": "fd7fb7e7-6f5a-42c3-ba2c-f50555605dfd"
      },
      "execution_count": null,
      "outputs": [
        {
          "output_type": "execute_result",
          "data": {
            "text/plain": [
              "[1, 'huzaifa', True, 22.1]"
            ]
          },
          "metadata": {},
          "execution_count": 3
        }
      ]
    },
    {
      "cell_type": "code",
      "source": [
        "numpy_list = np.array([1 , \"huzaifa\" , True , 22.1])\n",
        "numpy_list # return same data type"
      ],
      "metadata": {
        "colab": {
          "base_uri": "https://localhost:8080/"
        },
        "id": "AWiI03kDipbe",
        "outputId": "8325adc0-a4c9-4b44-c911-7487b3d962a7"
      },
      "execution_count": null,
      "outputs": [
        {
          "output_type": "execute_result",
          "data": {
            "text/plain": [
              "array(['1', 'huzaifa', 'True', '22.1'], dtype='<U32')"
            ]
          },
          "metadata": {},
          "execution_count": 4
        }
      ]
    },
    {
      "cell_type": "code",
      "source": [
        "for element in python_list:\n",
        "  print(type(element))\n"
      ],
      "metadata": {
        "colab": {
          "base_uri": "https://localhost:8080/"
        },
        "id": "0I2axbjfite7",
        "outputId": "3d32a558-6c60-4806-fe0b-4361d26444f2"
      },
      "execution_count": null,
      "outputs": [
        {
          "output_type": "stream",
          "name": "stdout",
          "text": [
            "<class 'int'>\n",
            "<class 'str'>\n",
            "<class 'bool'>\n",
            "<class 'float'>\n"
          ]
        }
      ]
    },
    {
      "cell_type": "code",
      "source": [
        "for element in numpy_list:\n",
        "  print(type(element))"
      ],
      "metadata": {
        "colab": {
          "base_uri": "https://localhost:8080/"
        },
        "id": "pCa479YYjA-G",
        "outputId": "d6cebc81-e116-4f22-dd93-4e6637a14ec8"
      },
      "execution_count": null,
      "outputs": [
        {
          "output_type": "stream",
          "name": "stdout",
          "text": [
            "<class 'numpy.str_'>\n",
            "<class 'numpy.str_'>\n",
            "<class 'numpy.str_'>\n",
            "<class 'numpy.str_'>\n"
          ]
        }
      ]
    },
    {
      "cell_type": "code",
      "source": [
        "# arryas contain rows data\n",
        "# nasted list [[1,2],[3,4]]\n",
        "arrs = np.array([[1,2],[3,4],[5,6]])\n",
        "arrs"
      ],
      "metadata": {
        "colab": {
          "base_uri": "https://localhost:8080/"
        },
        "id": "kFqHAmLgjGzh",
        "outputId": "1db68e97-00d0-41d2-d05b-66805907019e"
      },
      "execution_count": null,
      "outputs": [
        {
          "output_type": "execute_result",
          "data": {
            "text/plain": [
              "array([[1, 2],\n",
              "       [3, 4],\n",
              "       [5, 6]])"
            ]
          },
          "metadata": {},
          "execution_count": 7
        }
      ]
    },
    {
      "cell_type": "code",
      "source": [
        "arrs[-1]# last listt\n",
        "arrs[-1][-1]# last listt"
      ],
      "metadata": {
        "colab": {
          "base_uri": "https://localhost:8080/"
        },
        "id": "bocVZj1OkW7v",
        "outputId": "50dac699-75ff-46ce-f7c3-451166e013a1"
      },
      "execution_count": null,
      "outputs": [
        {
          "output_type": "execute_result",
          "data": {
            "text/plain": [
              "6"
            ]
          },
          "metadata": {},
          "execution_count": 8
        }
      ]
    },
    {
      "cell_type": "code",
      "source": [
        "# NDARRAY  \"n-dimentional-array\" an array with any number of dimension 1-D 2-D 3-D .........\n",
        "# vector (single  dimnension 1-D)\n",
        "# matrix (double dimension 2-D)\n",
        "# tensor (3-D or any other dimensaional array)"
      ],
      "metadata": {
        "id": "K_w9N39MkY_n"
      },
      "execution_count": null,
      "outputs": []
    },
    {
      "cell_type": "code",
      "source": [
        "arrays = np.array([[1,2,32],[3,4,241],[5,6,124]])\n",
        "arrays"
      ],
      "metadata": {
        "colab": {
          "base_uri": "https://localhost:8080/"
        },
        "id": "HMW8vwCdlEjw",
        "outputId": "b05732f9-fbaa-4dbb-ef84-9f3601dec47b"
      },
      "execution_count": null,
      "outputs": [
        {
          "output_type": "execute_result",
          "data": {
            "text/plain": [
              "array([[  1,   2,  32],\n",
              "       [  3,   4, 241],\n",
              "       [  5,   6, 124]])"
            ]
          },
          "metadata": {},
          "execution_count": 10
        }
      ]
    },
    {
      "cell_type": "code",
      "source": [
        "arrays.shape"
      ],
      "metadata": {
        "colab": {
          "base_uri": "https://localhost:8080/"
        },
        "id": "c_lNy2r4lstX",
        "outputId": "5504eacd-5f49-4c0d-e71d-547b008e34d5"
      },
      "execution_count": null,
      "outputs": [
        {
          "output_type": "execute_result",
          "data": {
            "text/plain": [
              "(3, 3)"
            ]
          },
          "metadata": {},
          "execution_count": 11
        }
      ]
    },
    {
      "cell_type": "code",
      "source": [
        "arrays.dtype"
      ],
      "metadata": {
        "colab": {
          "base_uri": "https://localhost:8080/"
        },
        "id": "t1M4osLjluNt",
        "outputId": "8083dc27-fd2f-4371-af77-a81940a62f45"
      },
      "execution_count": null,
      "outputs": [
        {
          "output_type": "execute_result",
          "data": {
            "text/plain": [
              "dtype('int64')"
            ]
          },
          "metadata": {},
          "execution_count": 12
        }
      ]
    },
    {
      "cell_type": "code",
      "source": [
        "# arrays = np.array([[1,2,32],[3,4,241],[5,6,124]] , dtype=\"int\")\n",
        "arrays = np.array([[1,2,32],[3,4,241],[5,6,124]] , dtype=\"str\")\n",
        "arrays"
      ],
      "metadata": {
        "colab": {
          "base_uri": "https://localhost:8080/"
        },
        "id": "xFssnDZYm8DT",
        "outputId": "246e532f-a94c-4a19-89b2-621542307e51"
      },
      "execution_count": null,
      "outputs": [
        {
          "output_type": "execute_result",
          "data": {
            "text/plain": [
              "array([['1', '2', '32'],\n",
              "       ['3', '4', '241'],\n",
              "       ['5', '6', '124']], dtype='<U3')"
            ]
          },
          "metadata": {},
          "execution_count": 13
        }
      ]
    },
    {
      "cell_type": "code",
      "source": [
        "arrays.dtype"
      ],
      "metadata": {
        "colab": {
          "base_uri": "https://localhost:8080/"
        },
        "id": "Q0FihVoYnGAB",
        "outputId": "911e43c7-52c5-4c79-e13d-0929b5a16337"
      },
      "execution_count": null,
      "outputs": [
        {
          "output_type": "execute_result",
          "data": {
            "text/plain": [
              "dtype('<U3')"
            ]
          },
          "metadata": {},
          "execution_count": 14
        }
      ]
    },
    {
      "cell_type": "code",
      "source": [
        "empty = np.empty(5) # its more efficent\n",
        "empty"
      ],
      "metadata": {
        "colab": {
          "base_uri": "https://localhost:8080/"
        },
        "id": "HuSx45FHlwJf",
        "outputId": "fdf668ba-b11f-4171-b862-bf2ef1a1a5fa"
      },
      "execution_count": null,
      "outputs": [
        {
          "output_type": "execute_result",
          "data": {
            "text/plain": [
              "array([0.  , 0.25, 0.5 , 0.75, 1.  ])"
            ]
          },
          "metadata": {},
          "execution_count": 15
        }
      ]
    },
    {
      "cell_type": "code",
      "source": [
        "zeros = np.zeros(5)\n",
        "zeros"
      ],
      "metadata": {
        "colab": {
          "base_uri": "https://localhost:8080/"
        },
        "id": "dabFJIepmxCJ",
        "outputId": "b1d13d01-9960-495f-97e2-0650b6e18e72"
      },
      "execution_count": null,
      "outputs": [
        {
          "output_type": "execute_result",
          "data": {
            "text/plain": [
              "array([0., 0., 0., 0., 0.])"
            ]
          },
          "metadata": {},
          "execution_count": 16
        }
      ]
    },
    {
      "cell_type": "code",
      "source": [
        "ones = np.ones(5)\n",
        "ones"
      ],
      "metadata": {
        "colab": {
          "base_uri": "https://localhost:8080/"
        },
        "id": "NJqZUHWpm0si",
        "outputId": "fbac1ffa-d21b-44db-babe-819de9d6fa1f"
      },
      "execution_count": null,
      "outputs": [
        {
          "output_type": "execute_result",
          "data": {
            "text/plain": [
              "array([1., 1., 1., 1., 1.])"
            ]
          },
          "metadata": {},
          "execution_count": 17
        }
      ]
    },
    {
      "cell_type": "code",
      "source": [
        "# creating a range will use Arange means single range or ekrange\n",
        "my_range = np.arange(9)\n",
        "my_range"
      ],
      "metadata": {
        "colab": {
          "base_uri": "https://localhost:8080/"
        },
        "id": "iyln9fCIm2-Y",
        "outputId": "278cfef0-726a-42a5-f083-bcf6c831c5be"
      },
      "execution_count": null,
      "outputs": [
        {
          "output_type": "execute_result",
          "data": {
            "text/plain": [
              "array([0, 1, 2, 3, 4, 5, 6, 7, 8])"
            ]
          },
          "metadata": {},
          "execution_count": 18
        }
      ]
    },
    {
      "cell_type": "code",
      "source": [
        "# my_range = np.arange(\"start\" , \"end\" , \"step or jump\")\n",
        "# list multiple of 3 or which are factors of 3 till 30\n",
        "my_range = np.arange(3 , 31 ,3)\n",
        "my_range"
      ],
      "metadata": {
        "colab": {
          "base_uri": "https://localhost:8080/"
        },
        "id": "iFxpiPm_nicP",
        "outputId": "8acc3ce1-52ff-4c30-aecb-67c0ad841d16"
      },
      "execution_count": null,
      "outputs": [
        {
          "output_type": "execute_result",
          "data": {
            "text/plain": [
              "array([ 3,  6,  9, 12, 15, 18, 21, 24, 27, 30])"
            ]
          },
          "metadata": {},
          "execution_count": 19
        }
      ]
    },
    {
      "cell_type": "code",
      "source": [
        "#spaced (divide) linaerly in specified intervals will use linspace()\n",
        "\n",
        "divide = np.linspace(0 , 50 , num =11) #num = how many parts do u want split in the given list\n",
        "divide"
      ],
      "metadata": {
        "colab": {
          "base_uri": "https://localhost:8080/"
        },
        "id": "DEA2svPQn92e",
        "outputId": "0c3d1a6a-779a-48cc-9e4c-7c6122596294"
      },
      "execution_count": null,
      "outputs": [
        {
          "output_type": "execute_result",
          "data": {
            "text/plain": [
              "array([ 0.,  5., 10., 15., 20., 25., 30., 35., 40., 45., 50.])"
            ]
          },
          "metadata": {},
          "execution_count": 20
        }
      ]
    },
    {
      "cell_type": "code",
      "source": [],
      "metadata": {
        "id": "GLluQVBV8QzF"
      },
      "execution_count": null,
      "outputs": []
    },
    {
      "cell_type": "code",
      "source": [
        "sort = np.sort([23,13,655,23,523543,657,3,544,423,12,5,236])\n",
        "sort"
      ],
      "metadata": {
        "colab": {
          "base_uri": "https://localhost:8080/"
        },
        "id": "1p4BzB1ooT-j",
        "outputId": "d5355aae-a2c7-4925-d9e5-9ecf296fd910"
      },
      "execution_count": null,
      "outputs": [
        {
          "output_type": "execute_result",
          "data": {
            "text/plain": [
              "array([     3,      5,     12,     13,     23,     23,    236,    423,\n",
              "          544,    655,    657, 523543])"
            ]
          },
          "metadata": {},
          "execution_count": 21
        }
      ]
    },
    {
      "cell_type": "code",
      "source": [
        "# concatenate joins two or more arrays\n",
        "first_arr = [23,13,655,23,12,5,236]\n",
        "second_arr = [44,12,5,236]\n",
        "concatenate = np.concatenate((first_arr , second_arr))   # SOULD BE IN TUPLE\n",
        "concatenate"
      ],
      "metadata": {
        "colab": {
          "base_uri": "https://localhost:8080/"
        },
        "id": "QHXufrYL73ZH",
        "outputId": "3878f852-d228-4eaa-f23c-8cec86bcab14"
      },
      "execution_count": null,
      "outputs": [
        {
          "output_type": "execute_result",
          "data": {
            "text/plain": [
              "array([ 23,  13, 655,  23,  12,   5, 236,  44,  12,   5, 236])"
            ]
          },
          "metadata": {},
          "execution_count": 22
        }
      ]
    },
    {
      "cell_type": "code",
      "source": [
        "first_arr_multiindex = [[23,13], [23,12]] # all the input arrays must have same number of dimensions\n",
        "second_arr_multiindex  = [[44,12],[5,236]]\n",
        "join = np.concatenate((first_arr_multiindex,second_arr_multiindex))\n",
        "join"
      ],
      "metadata": {
        "colab": {
          "base_uri": "https://localhost:8080/"
        },
        "id": "fbysyWB-80YI",
        "outputId": "0e639252-e7c6-433f-a1a6-7084b5a0d858"
      },
      "execution_count": null,
      "outputs": [
        {
          "output_type": "execute_result",
          "data": {
            "text/plain": [
              "array([[ 23,  13],\n",
              "       [ 23,  12],\n",
              "       [ 44,  12],\n",
              "       [  5, 236]])"
            ]
          },
          "metadata": {},
          "execution_count": 63
        }
      ]
    },
    {
      "cell_type": "code",
      "source": [
        "first_arr_multiindex = [[23,13], [23,12]] # all the input arrays must have same number of dimensions\n",
        "second_arr_multiindex  = [[44,12],[5,236]]\n",
        "# join = np.concatenate((first_arr_multiindex,second_arr_multiindex) , axis = 0) #rows will be concatenate  means row is join\n",
        "join = np.concatenate((first_arr_multiindex,second_arr_multiindex) , axis = 1) # column will be concatenate means column will be join\n",
        "join"
      ],
      "metadata": {
        "colab": {
          "base_uri": "https://localhost:8080/"
        },
        "id": "zMnMC8F19Ptu",
        "outputId": "1ece4483-201b-4e22-fcab-02f4e273ca1b"
      },
      "execution_count": null,
      "outputs": [
        {
          "output_type": "execute_result",
          "data": {
            "text/plain": [
              "array([[ 23,  13,  44,  12],\n",
              "       [ 23,  12,   5, 236]])"
            ]
          },
          "metadata": {},
          "execution_count": 66
        }
      ]
    },
    {
      "cell_type": "markdown",
      "source": [
        "# shape and size of an array VID (109)"
      ],
      "metadata": {
        "id": "2QWxUdtnB5s5"
      }
    },
    {
      "cell_type": "code",
      "source": [
        "three_dimensional_list = np.array([[[1, 2, 3], [4, 5, 6]],\n",
        "                          [[10, 11, 12], [13, 14, 15]],\n",
        "                          [[19, 20, 21], [22, 23, 24]]])\n",
        "three_dimensional_list"
      ],
      "metadata": {
        "id": "y0jqqfouB80n",
        "colab": {
          "base_uri": "https://localhost:8080/"
        },
        "outputId": "fc5482a7-62ef-4814-e415-372e5e811d2c"
      },
      "execution_count": null,
      "outputs": [
        {
          "output_type": "execute_result",
          "data": {
            "text/plain": [
              "array([[[ 1,  2,  3],\n",
              "        [ 4,  5,  6]],\n",
              "\n",
              "       [[10, 11, 12],\n",
              "        [13, 14, 15]],\n",
              "\n",
              "       [[19, 20, 21],\n",
              "        [22, 23, 24]]])"
            ]
          },
          "metadata": {},
          "execution_count": 12
        }
      ]
    },
    {
      "cell_type": "code",
      "source": [
        "# number of dimension of any given array usin NDIM\n",
        "three_dimensional_list.ndim"
      ],
      "metadata": {
        "colab": {
          "base_uri": "https://localhost:8080/"
        },
        "id": "Yi85cMesAN1h",
        "outputId": "c8a7625e-3f2e-47f8-936e-2c7a4bdcf1a5"
      },
      "execution_count": null,
      "outputs": [
        {
          "output_type": "execute_result",
          "data": {
            "text/plain": [
              "3"
            ]
          },
          "metadata": {},
          "execution_count": 13
        }
      ]
    },
    {
      "cell_type": "code",
      "source": [
        "list = np.array([[[1, 2, 3], [4, 5, 6], [7, 8, 9]],\n",
        "    [[10, 11, 12], [13, 14, 15], [16, 17, 18]],\n",
        "    [[19, 20, 21], [22, 23, 24], [25, 26, 27]]])\n",
        "list"
      ],
      "metadata": {
        "colab": {
          "base_uri": "https://localhost:8080/"
        },
        "id": "-ZDwwtgAAiLO",
        "outputId": "9c20fdf7-9e6e-4b4a-84ed-45d40ea9f534"
      },
      "execution_count": null,
      "outputs": [
        {
          "output_type": "execute_result",
          "data": {
            "text/plain": [
              "array([[[ 1,  2,  3],\n",
              "        [ 4,  5,  6],\n",
              "        [ 7,  8,  9]],\n",
              "\n",
              "       [[10, 11, 12],\n",
              "        [13, 14, 15],\n",
              "        [16, 17, 18]],\n",
              "\n",
              "       [[19, 20, 21],\n",
              "        [22, 23, 24],\n",
              "        [25, 26, 27]]])"
            ]
          },
          "metadata": {},
          "execution_count": 14
        }
      ]
    },
    {
      "cell_type": "code",
      "source": [
        "list.ndim"
      ],
      "metadata": {
        "colab": {
          "base_uri": "https://localhost:8080/"
        },
        "id": "1uIysGj8ApA7",
        "outputId": "c25c9902-93ee-408b-a990-9d0e858c9f9c"
      },
      "execution_count": null,
      "outputs": [
        {
          "output_type": "execute_result",
          "data": {
            "text/plain": [
              "3"
            ]
          },
          "metadata": {},
          "execution_count": 15
        }
      ]
    },
    {
      "cell_type": "code",
      "source": [
        "two_dimensional_list = np.array([[[1,3], [4, 6]],\n",
        "                          [[10, 12], [13,  15]],\n",
        "                          [[19, 21], [22, 24]]])\n",
        "two_dimensional_list"
      ],
      "metadata": {
        "colab": {
          "base_uri": "https://localhost:8080/"
        },
        "id": "cSzbDuHGAzVQ",
        "outputId": "8cc78438-c443-435c-bd0e-dad331889ea5"
      },
      "execution_count": null,
      "outputs": [
        {
          "output_type": "execute_result",
          "data": {
            "text/plain": [
              "array([[[ 1,  3],\n",
              "        [ 4,  6]],\n",
              "\n",
              "       [[10, 12],\n",
              "        [13, 15]],\n",
              "\n",
              "       [[19, 21],\n",
              "        [22, 24]]])"
            ]
          },
          "metadata": {},
          "execution_count": 17
        }
      ]
    },
    {
      "cell_type": "code",
      "source": [
        "two_dimensional_list.ndim"
      ],
      "metadata": {
        "colab": {
          "base_uri": "https://localhost:8080/"
        },
        "id": "-9YwT-yjA8u1",
        "outputId": "28b272f7-630d-49e2-9462-53c1c215311e"
      },
      "execution_count": null,
      "outputs": [
        {
          "output_type": "execute_result",
          "data": {
            "text/plain": [
              "3"
            ]
          },
          "metadata": {},
          "execution_count": 19
        }
      ]
    },
    {
      "cell_type": "code",
      "source": [
        "# .SIZE return total number of elements in list\n",
        "three_dimensional_list.size"
      ],
      "metadata": {
        "colab": {
          "base_uri": "https://localhost:8080/"
        },
        "id": "DV-xe1qIBH1T",
        "outputId": "b48572da-0d7e-4048-81b9-f6f8acc61eb0"
      },
      "execution_count": null,
      "outputs": [
        {
          "output_type": "execute_result",
          "data": {
            "text/plain": [
              "18"
            ]
          },
          "metadata": {},
          "execution_count": 23
        }
      ]
    },
    {
      "cell_type": "code",
      "source": [
        "three_dimensional_list.shape\n",
        "#3 list that contain 2 list having 3 elements (3,2,3)"
      ],
      "metadata": {
        "colab": {
          "base_uri": "https://localhost:8080/"
        },
        "id": "JzYLHP4hBM6g",
        "outputId": "c81b94cc-86ac-4b76-d31f-20d9d0e669af"
      },
      "execution_count": null,
      "outputs": [
        {
          "output_type": "execute_result",
          "data": {
            "text/plain": [
              "(3, 2, 3)"
            ]
          },
          "metadata": {},
          "execution_count": 25
        }
      ]
    },
    {
      "cell_type": "code",
      "source": [],
      "metadata": {
        "id": "Jtw74_bKBerb"
      },
      "execution_count": null,
      "outputs": []
    },
    {
      "cell_type": "markdown",
      "source": [
        "# reshaping an array(list)"
      ],
      "metadata": {
        "id": "Fka6QLKpBt3c"
      }
    },
    {
      "cell_type": "code",
      "source": [
        "arr = np.array(['a','b','c','d','e','f'])\n",
        "arr"
      ],
      "metadata": {
        "colab": {
          "base_uri": "https://localhost:8080/"
        },
        "id": "hsiHmOeZByHD",
        "outputId": "06f1a1ce-4a7b-4317-a0e0-3b800140abda"
      },
      "execution_count": null,
      "outputs": [
        {
          "output_type": "execute_result",
          "data": {
            "text/plain": [
              "array(['a', 'b', 'c', 'd', 'e', 'f'], dtype='<U1')"
            ]
          },
          "metadata": {},
          "execution_count": 23
        }
      ]
    },
    {
      "cell_type": "code",
      "source": [
        "# arr\n",
        "arr.reshape(3,2) # 3 list of 2 elements in each"
      ],
      "metadata": {
        "colab": {
          "base_uri": "https://localhost:8080/"
        },
        "id": "gWhC4DtgCfhA",
        "outputId": "ab85a746-a583-4e10-e633-52961c9c683c"
      },
      "execution_count": null,
      "outputs": [
        {
          "output_type": "execute_result",
          "data": {
            "text/plain": [
              "array([['a', 'b'],\n",
              "       ['c', 'd'],\n",
              "       ['e', 'f']], dtype='<U1')"
            ]
          },
          "metadata": {},
          "execution_count": 24
        }
      ]
    },
    {
      "cell_type": "code",
      "source": [
        "arr"
      ],
      "metadata": {
        "colab": {
          "base_uri": "https://localhost:8080/"
        },
        "id": "wpX9ojq7Cn-A",
        "outputId": "48b4f0d7-6f04-40c8-8d36-3a20bb381910"
      },
      "execution_count": null,
      "outputs": [
        {
          "output_type": "execute_result",
          "data": {
            "text/plain": [
              "array(['a', 'b', 'c', 'd', 'e', 'f'], dtype='<U1')"
            ]
          },
          "metadata": {},
          "execution_count": 25
        }
      ]
    },
    {
      "cell_type": "code",
      "source": [
        "arr.reshape(2,3) # 2 list of 3 elements\n",
        "# reshapr shoulb be compataible to the list cant be like this\n",
        "# arr.reshape(6,3)"
      ],
      "metadata": {
        "colab": {
          "base_uri": "https://localhost:8080/"
        },
        "id": "5ifvzBheCx8T",
        "outputId": "bb764081-d32f-4d7c-9843-d8c169f21d62"
      },
      "execution_count": null,
      "outputs": [
        {
          "output_type": "execute_result",
          "data": {
            "text/plain": [
              "array([['a', 'b', 'c'],\n",
              "       ['d', 'e', 'f']], dtype='<U1')"
            ]
          },
          "metadata": {},
          "execution_count": 26
        }
      ]
    },
    {
      "cell_type": "code",
      "source": [
        "np.reshape(arr, newshape = (1,2,3)) # 1 list that contaon 2 list having 3 elements\n",
        "np.reshape(arr, newshape = (1,2,3)) # 1 list of 2 list of 3 elements"
      ],
      "metadata": {
        "colab": {
          "base_uri": "https://localhost:8080/"
        },
        "id": "8X2xQUMpC4VX",
        "outputId": "89f863b4-3e3e-48fa-808e-6d27650a85ac"
      },
      "execution_count": null,
      "outputs": [
        {
          "output_type": "execute_result",
          "data": {
            "text/plain": [
              "array([[['a', 'b', 'c'],\n",
              "        ['d', 'e', 'f']]], dtype='<U1')"
            ]
          },
          "metadata": {},
          "execution_count": 27
        }
      ]
    },
    {
      "cell_type": "markdown",
      "source": [
        "# adding new axis(new axis and expand dimension)"
      ],
      "metadata": {
        "id": "KuhSc8s1KfZq"
      }
    },
    {
      "cell_type": "code",
      "source": [
        "import numpy as np\n"
      ],
      "metadata": {
        "id": "LZ2AT8oqJEBm"
      },
      "execution_count": null,
      "outputs": []
    },
    {
      "cell_type": "code",
      "source": [
        "arr = np.array([1,2,3,4,5,6])\n",
        "arr"
      ],
      "metadata": {
        "colab": {
          "base_uri": "https://localhost:8080/"
        },
        "id": "3Sr5PBCoKtpr",
        "outputId": "fc761590-8fb1-4cd1-88cd-d7aaeea22347"
      },
      "execution_count": null,
      "outputs": [
        {
          "output_type": "execute_result",
          "data": {
            "text/plain": [
              "array([1, 2, 3, 4, 5, 6])"
            ]
          },
          "metadata": {},
          "execution_count": 29
        }
      ]
    },
    {
      "cell_type": "code",
      "source": [
        "arr.shape\n",
        "# 6 elements"
      ],
      "metadata": {
        "colab": {
          "base_uri": "https://localhost:8080/"
        },
        "id": "I6QKVjUKLGR8",
        "outputId": "06840465-c34e-4654-eafa-bf268e312478"
      },
      "execution_count": null,
      "outputs": [
        {
          "output_type": "execute_result",
          "data": {
            "text/plain": [
              "(6,)"
            ]
          },
          "metadata": {},
          "execution_count": 30
        }
      ]
    },
    {
      "cell_type": "code",
      "source": [
        "# add new axis(row ) to the list OR ADDING ROW\n",
        "arr2 = arr[np.newaxis  ,  : ]\n",
        "arr2"
      ],
      "metadata": {
        "colab": {
          "base_uri": "https://localhost:8080/"
        },
        "id": "7XRLxhYvLHn2",
        "outputId": "380e4278-ce2c-4cb8-b2da-b8e890d4c221"
      },
      "execution_count": null,
      "outputs": [
        {
          "output_type": "execute_result",
          "data": {
            "text/plain": [
              "array([[1, 2, 3, 4, 5, 6]])"
            ]
          },
          "metadata": {},
          "execution_count": 31
        }
      ]
    },
    {
      "cell_type": "code",
      "source": [
        "arr2.shape"
      ],
      "metadata": {
        "colab": {
          "base_uri": "https://localhost:8080/"
        },
        "id": "7A4dsj8FL48-",
        "outputId": "978adc00-bbe9-41d1-ae19-dba7cd82d9d3"
      },
      "execution_count": null,
      "outputs": [
        {
          "output_type": "execute_result",
          "data": {
            "text/plain": [
              "(1, 6)"
            ]
          },
          "metadata": {},
          "execution_count": 32
        }
      ]
    },
    {
      "cell_type": "code",
      "source": [
        "# ADDING COLUMN\n",
        "arr3 = arr[ : , np.newaxis]\n",
        "arr3"
      ],
      "metadata": {
        "colab": {
          "base_uri": "https://localhost:8080/"
        },
        "id": "37eCLT2ELYsJ",
        "outputId": "53986321-28fc-435d-efc0-760e08818480"
      },
      "execution_count": null,
      "outputs": [
        {
          "output_type": "execute_result",
          "data": {
            "text/plain": [
              "array([[1],\n",
              "       [2],\n",
              "       [3],\n",
              "       [4],\n",
              "       [5],\n",
              "       [6]])"
            ]
          },
          "metadata": {},
          "execution_count": 33
        }
      ]
    },
    {
      "cell_type": "code",
      "source": [
        "arr3.shape\n",
        "# 6 list of one element"
      ],
      "metadata": {
        "colab": {
          "base_uri": "https://localhost:8080/"
        },
        "id": "J3FG8J3rL7a0",
        "outputId": "e2db4cdc-2596-4937-d0cc-728f4f4b5e98"
      },
      "execution_count": null,
      "outputs": [
        {
          "output_type": "execute_result",
          "data": {
            "text/plain": [
              "(6, 1)"
            ]
          },
          "metadata": {},
          "execution_count": 34
        }
      ]
    },
    {
      "cell_type": "code",
      "source": [
        "# ANOTHER METHOS WE CAN USE INSTEAD OF NEWAXIS\n",
        "# WE WIL USE .EXPAND_DIMS #  which means expand dimensions\n"
      ],
      "metadata": {
        "id": "fefmn9jUL__D"
      },
      "execution_count": null,
      "outputs": []
    },
    {
      "cell_type": "code",
      "source": [
        "arr = np.array([1,2,3,4,5,6])\n",
        "arr"
      ],
      "metadata": {
        "colab": {
          "base_uri": "https://localhost:8080/"
        },
        "id": "AXbe9yIOMyOt",
        "outputId": "3c747351-d925-4889-df43-b745a85667e7"
      },
      "execution_count": null,
      "outputs": [
        {
          "output_type": "execute_result",
          "data": {
            "text/plain": [
              "array([1, 2, 3, 4, 5, 6])"
            ]
          },
          "metadata": {},
          "execution_count": 36
        }
      ]
    },
    {
      "cell_type": "code",
      "source": [
        "row = np.expand_dims(arr, axis = 0)#will add a new axis as a ROW  (axis 0 set as a  row)\n",
        "row"
      ],
      "metadata": {
        "colab": {
          "base_uri": "https://localhost:8080/"
        },
        "id": "BipSdhdxM1cP",
        "outputId": "d6b0b22d-8483-41eb-bbd7-a70d6f15e45e"
      },
      "execution_count": null,
      "outputs": [
        {
          "output_type": "execute_result",
          "data": {
            "text/plain": [
              "array([[1, 2, 3, 4, 5, 6]])"
            ]
          },
          "metadata": {},
          "execution_count": 37
        }
      ]
    },
    {
      "cell_type": "code",
      "source": [
        "col = np.expand_dims(arr ,  axis  =  1) # will addd anew column as  a column\n",
        "col"
      ],
      "metadata": {
        "colab": {
          "base_uri": "https://localhost:8080/"
        },
        "id": "oKZgxD_dNGpd",
        "outputId": "e39928fa-722f-45c2-e8ba-056feddb27ec"
      },
      "execution_count": null,
      "outputs": [
        {
          "output_type": "execute_result",
          "data": {
            "text/plain": [
              "array([[1],\n",
              "       [2],\n",
              "       [3],\n",
              "       [4],\n",
              "       [5],\n",
              "       [6]])"
            ]
          },
          "metadata": {},
          "execution_count": 38
        }
      ]
    },
    {
      "cell_type": "code",
      "source": [
        "col.shape"
      ],
      "metadata": {
        "colab": {
          "base_uri": "https://localhost:8080/"
        },
        "id": "uX0LP1tyNL21",
        "outputId": "4a2988d8-09f1-4fc1-9736-b835d97e81ad"
      },
      "execution_count": null,
      "outputs": [
        {
          "output_type": "execute_result",
          "data": {
            "text/plain": [
              "(6, 1)"
            ]
          },
          "metadata": {},
          "execution_count": 39
        }
      ]
    },
    {
      "cell_type": "code",
      "source": [],
      "metadata": {
        "id": "IXmtCuckNN1F"
      },
      "execution_count": null,
      "outputs": []
    },
    {
      "cell_type": "markdown",
      "source": [
        "# indexing and slicing"
      ],
      "metadata": {
        "id": "L-ELttY5N42f"
      }
    },
    {
      "cell_type": "code",
      "source": [
        "import numpy as np\n",
        "# list = np.arange(0,10 ,1)  #both are same\n",
        "list = np.arange(10)\n",
        "list"
      ],
      "metadata": {
        "colab": {
          "base_uri": "https://localhost:8080/"
        },
        "id": "KVGMifPDN7Ol",
        "outputId": "d732cec6-3e59-4f74-9a65-59834d6e8716"
      },
      "execution_count": null,
      "outputs": [
        {
          "output_type": "execute_result",
          "data": {
            "text/plain": [
              "array([0, 1, 2, 3, 4, 5, 6, 7, 8, 9])"
            ]
          },
          "metadata": {},
          "execution_count": 40
        }
      ]
    },
    {
      "cell_type": "code",
      "source": [
        "# will reverse the order of a list\n",
        "list[::-1]"
      ],
      "metadata": {
        "colab": {
          "base_uri": "https://localhost:8080/"
        },
        "id": "dlMMaYSbOEdL",
        "outputId": "6ff88c75-5bf4-4a38-d731-22762db06ed7"
      },
      "execution_count": null,
      "outputs": [
        {
          "output_type": "execute_result",
          "data": {
            "text/plain": [
              "array([9, 8, 7, 6, 5, 4, 3, 2, 1, 0])"
            ]
          },
          "metadata": {},
          "execution_count": 41
        }
      ]
    },
    {
      "cell_type": "code",
      "source": [
        "# list[\"any condion here\"]\n",
        "list[list > 5]"
      ],
      "metadata": {
        "colab": {
          "base_uri": "https://localhost:8080/"
        },
        "id": "z_oHATMuOXB6",
        "outputId": "7a0e1419-650a-48b9-db1f-834f083e5718"
      },
      "execution_count": null,
      "outputs": [
        {
          "output_type": "execute_result",
          "data": {
            "text/plain": [
              "array([6, 7, 8, 9])"
            ]
          },
          "metadata": {},
          "execution_count": 42
        }
      ]
    },
    {
      "cell_type": "code",
      "source": [
        "\n",
        "# even_num  =  list[list%2 == 0]\n",
        "# even_num\n"
      ],
      "metadata": {
        "id": "TDq1fbeUOqw2"
      },
      "execution_count": null,
      "outputs": []
    },
    {
      "cell_type": "code",
      "source": [
        "array = np.array([[1,2,3,4],[5,6,7,8],[9,10,11,12]])\n",
        "array"
      ],
      "metadata": {
        "colab": {
          "base_uri": "https://localhost:8080/"
        },
        "id": "YmztFrTzO4gY",
        "outputId": "ee5bd671-a80b-403f-f2e4-1e133e2819c7"
      },
      "execution_count": null,
      "outputs": [
        {
          "output_type": "execute_result",
          "data": {
            "text/plain": [
              "array([[ 1,  2,  3,  4],\n",
              "       [ 5,  6,  7,  8],\n",
              "       [ 9, 10, 11, 12]])"
            ]
          },
          "metadata": {},
          "execution_count": 44
        }
      ]
    },
    {
      "cell_type": "code",
      "source": [
        "mask = np.nonzero(array>5)\n",
        "mask\n",
        "# list-->[1, 1, 1] having indices [1, 2, 3] which satisfy the condtion\n",
        "# list-->[2, 2, 2] having indices [0, 1, 2, 3] which satisfy the condtion"
      ],
      "metadata": {
        "colab": {
          "base_uri": "https://localhost:8080/"
        },
        "id": "kyi8hqJXQ6jR",
        "outputId": "c2e9647c-e15c-45ac-ff57-009bce8b6958"
      },
      "execution_count": null,
      "outputs": [
        {
          "output_type": "execute_result",
          "data": {
            "text/plain": [
              "(array([1, 1, 1, 2, 2, 2, 2]), array([1, 2, 3, 0, 1, 2, 3]))"
            ]
          },
          "metadata": {},
          "execution_count": 45
        }
      ]
    },
    {
      "cell_type": "code",
      "source": [
        "array[mask]"
      ],
      "metadata": {
        "colab": {
          "base_uri": "https://localhost:8080/"
        },
        "id": "KQ38PvMGRCny",
        "outputId": "685fbf81-d948-484b-989d-03a1ce1683b9"
      },
      "execution_count": null,
      "outputs": [
        {
          "output_type": "execute_result",
          "data": {
            "text/plain": [
              "array([ 6,  7,  8,  9, 10, 11, 12])"
            ]
          },
          "metadata": {},
          "execution_count": 46
        }
      ]
    },
    {
      "cell_type": "markdown",
      "source": [
        "# creating array(list) from existing list"
      ],
      "metadata": {
        "id": "AYb5y9hqUVQ7"
      }
    },
    {
      "cell_type": "code",
      "source": [
        "Genuine = np.arange(10)\n",
        "Genuine\n"
      ],
      "metadata": {
        "colab": {
          "base_uri": "https://localhost:8080/"
        },
        "id": "NUDWR-iXUdjq",
        "outputId": "aae1d76b-29c5-4913-cd86-97224d17478c"
      },
      "execution_count": null,
      "outputs": [
        {
          "output_type": "execute_result",
          "data": {
            "text/plain": [
              "array([0, 1, 2, 3, 4, 5, 6, 7, 8, 9])"
            ]
          },
          "metadata": {},
          "execution_count": 47
        }
      ]
    },
    {
      "cell_type": "code",
      "source": [
        "original_copy = Genuine.copy() # soo original list will ramain same\n",
        "original_copy"
      ],
      "metadata": {
        "colab": {
          "base_uri": "https://localhost:8080/"
        },
        "id": "Mjh9gmWZUjkx",
        "outputId": "c3666b20-b6ff-4210-af97-73ffa1cb184e"
      },
      "execution_count": null,
      "outputs": [
        {
          "output_type": "execute_result",
          "data": {
            "text/plain": [
              "array([0, 1, 2, 3, 4, 5, 6, 7, 8, 9])"
            ]
          },
          "metadata": {},
          "execution_count": 48
        }
      ]
    },
    {
      "cell_type": "code",
      "source": [
        "slicing  =  original_copy[2:8]\n",
        "slicing"
      ],
      "metadata": {
        "colab": {
          "base_uri": "https://localhost:8080/"
        },
        "id": "3EL5GzZDUvZE",
        "outputId": "d95939fe-aee9-4022-a47e-b607cc441b2f"
      },
      "execution_count": null,
      "outputs": [
        {
          "output_type": "execute_result",
          "data": {
            "text/plain": [
              "array([2, 3, 4, 5, 6, 7])"
            ]
          },
          "metadata": {},
          "execution_count": 49
        }
      ]
    },
    {
      "cell_type": "code",
      "source": [
        "slicing[0] = 60\n",
        "slicing"
      ],
      "metadata": {
        "colab": {
          "base_uri": "https://localhost:8080/"
        },
        "id": "d3uE0qKEU6ay",
        "outputId": "9bede64e-283e-4f60-cb12-e46718467553"
      },
      "execution_count": null,
      "outputs": [
        {
          "output_type": "execute_result",
          "data": {
            "text/plain": [
              "array([60,  3,  4,  5,  6,  7])"
            ]
          },
          "metadata": {},
          "execution_count": 50
        }
      ]
    },
    {
      "cell_type": "code",
      "source": [
        "Genuine # will not change we use method original.copy"
      ],
      "metadata": {
        "colab": {
          "base_uri": "https://localhost:8080/"
        },
        "id": "llLh7FW6VEUR",
        "outputId": "811406c0-0bb2-4e73-85fd-25b8688da68c"
      },
      "execution_count": null,
      "outputs": [
        {
          "output_type": "execute_result",
          "data": {
            "text/plain": [
              "array([0, 1, 2, 3, 4, 5, 6, 7, 8, 9])"
            ]
          },
          "metadata": {},
          "execution_count": 51
        }
      ]
    },
    {
      "cell_type": "code",
      "source": [
        "original_copy"
      ],
      "metadata": {
        "colab": {
          "base_uri": "https://localhost:8080/"
        },
        "id": "UpJg7sDrVMR2",
        "outputId": "9f6ebd4f-79f6-40b4-9b12-ce81f8468098"
      },
      "execution_count": null,
      "outputs": [
        {
          "output_type": "execute_result",
          "data": {
            "text/plain": [
              "array([ 0,  1, 60,  3,  4,  5,  6,  7,  8,  9])"
            ]
          },
          "metadata": {},
          "execution_count": 52
        }
      ]
    },
    {
      "cell_type": "markdown",
      "source": [
        "# BASIC operation (maths)"
      ],
      "metadata": {
        "id": "-ImjmyF-VqRF"
      }
    },
    {
      "cell_type": "code",
      "source": [
        "list1 = np.array([[1,4, 6] ,  [7,8,9]])\n",
        "list2 = np.array([[11,14,16] , [17,18,19]])\n"
      ],
      "metadata": {
        "id": "sbSRUypqVMtS"
      },
      "execution_count": null,
      "outputs": []
    },
    {
      "cell_type": "code",
      "source": [
        "list1 + list2 # will add 1st element of tthe first list With 1st element of the sceond list\n",
        "list2 - list1"
      ],
      "metadata": {
        "colab": {
          "base_uri": "https://localhost:8080/"
        },
        "id": "kxVE9K0YbZAM",
        "outputId": "69463dfb-98fb-4348-8fa4-b188097361a1"
      },
      "execution_count": null,
      "outputs": [
        {
          "output_type": "execute_result",
          "data": {
            "text/plain": [
              "array([[10, 10, 10],\n",
              "       [10, 10, 10]])"
            ]
          },
          "metadata": {},
          "execution_count": 54
        }
      ]
    },
    {
      "cell_type": "code",
      "source": [
        "list2 / list1\n",
        "list2 * list1"
      ],
      "metadata": {
        "colab": {
          "base_uri": "https://localhost:8080/"
        },
        "id": "XyB1HyDvbyD5",
        "outputId": "57c36778-9b04-4706-c161-8e07bd5e77cb"
      },
      "execution_count": null,
      "outputs": [
        {
          "output_type": "execute_result",
          "data": {
            "text/plain": [
              "array([[ 11,  56,  96],\n",
              "       [119, 144, 171]])"
            ]
          },
          "metadata": {},
          "execution_count": 55
        }
      ]
    },
    {
      "cell_type": "code",
      "source": [
        "arr = np.array([[1,2,3],[7,8,9]])\n",
        "arr"
      ],
      "metadata": {
        "colab": {
          "base_uri": "https://localhost:8080/"
        },
        "id": "LWEHSzMicNDs",
        "outputId": "ce7359e4-5ccc-44aa-d2d9-54a1ae869949"
      },
      "execution_count": null,
      "outputs": [
        {
          "output_type": "execute_result",
          "data": {
            "text/plain": [
              "array([[1, 2, 3],\n",
              "       [7, 8, 9]])"
            ]
          },
          "metadata": {},
          "execution_count": 56
        }
      ]
    },
    {
      "cell_type": "code",
      "source": [
        "arr.sum()\n",
        "arr.max()\n",
        "arr.min()\n",
        "arr.mean()"
      ],
      "metadata": {
        "colab": {
          "base_uri": "https://localhost:8080/"
        },
        "id": "MqNe6wEbcXtr",
        "outputId": "f7979844-fc21-42c3-95f8-03fed7435372"
      },
      "execution_count": null,
      "outputs": [
        {
          "output_type": "execute_result",
          "data": {
            "text/plain": [
              "5.0"
            ]
          },
          "metadata": {},
          "execution_count": 57
        }
      ]
    },
    {
      "cell_type": "code",
      "source": [
        "# we can specify the axis\n",
        "row_sum = arr.sum(axis = 0)\n",
        "row_sum\n",
        "# also\n",
        "arr.sum(axis = 1)"
      ],
      "metadata": {
        "colab": {
          "base_uri": "https://localhost:8080/"
        },
        "id": "hUAQoeRzcYfB",
        "outputId": "b6867519-b9c8-4892-8ac7-3f3ecf9256d5"
      },
      "execution_count": null,
      "outputs": [
        {
          "output_type": "execute_result",
          "data": {
            "text/plain": [
              "array([ 6, 24])"
            ]
          },
          "metadata": {},
          "execution_count": 58
        }
      ]
    },
    {
      "cell_type": "markdown",
      "source": [
        "# broadcasting"
      ],
      "metadata": {
        "id": "UBiT-5p6iYiX"
      }
    },
    {
      "cell_type": "code",
      "source": [
        "# come with numpy\n",
        "import numpy as ni\n",
        "arr_ni = np.array([10,20,30])\n",
        "arr_ni"
      ],
      "metadata": {
        "colab": {
          "base_uri": "https://localhost:8080/"
        },
        "id": "PwfkcD93iaWZ",
        "outputId": "7af10048-f325-4c00-a768-e44a883d7dd2"
      },
      "execution_count": null,
      "outputs": [
        {
          "output_type": "execute_result",
          "data": {
            "text/plain": [
              "array([10, 20, 30])"
            ]
          },
          "metadata": {},
          "execution_count": 59
        }
      ]
    },
    {
      "cell_type": "code",
      "source": [
        "arr_ni * .5\n",
        "arr_ni / 2"
      ],
      "metadata": {
        "colab": {
          "base_uri": "https://localhost:8080/"
        },
        "id": "zUavNI3EjHur",
        "outputId": "ad8a9382-2cfc-4653-f88f-657b7edcd10e"
      },
      "execution_count": null,
      "outputs": [
        {
          "output_type": "execute_result",
          "data": {
            "text/plain": [
              "array([ 5., 10., 15.])"
            ]
          },
          "metadata": {},
          "execution_count": 60
        }
      ]
    },
    {
      "cell_type": "markdown",
      "source": [
        "# MATRICES"
      ],
      "metadata": {
        "id": "Jh8Ou93JjOEX"
      }
    },
    {
      "cell_type": "code",
      "source": [
        "import numpy as np"
      ],
      "metadata": {
        "id": "aP7eQSHAiOra"
      },
      "execution_count": null,
      "outputs": []
    },
    {
      "cell_type": "code",
      "source": [
        "arr = np.array([[1,2,3],[4,5,6],[7,8,9]])\n",
        "arr"
      ],
      "metadata": {
        "colab": {
          "base_uri": "https://localhost:8080/"
        },
        "id": "xrECT-ytjPjT",
        "outputId": "b0d5dc2f-1454-4575-a71b-9c48f47d4f58"
      },
      "execution_count": null,
      "outputs": [
        {
          "output_type": "execute_result",
          "data": {
            "text/plain": [
              "array([[1, 2, 3],\n",
              "       [4, 5, 6],\n",
              "       [7, 8, 9]])"
            ]
          },
          "metadata": {},
          "execution_count": 62
        }
      ]
    },
    {
      "cell_type": "code",
      "source": [
        "multiply = np.array([10,5,2])\n",
        "arr * multiply"
      ],
      "metadata": {
        "colab": {
          "base_uri": "https://localhost:8080/"
        },
        "id": "X80HXERAnRtN",
        "outputId": "6d98f29d-228d-4314-bc8c-80b0a4ba7e2f"
      },
      "execution_count": null,
      "outputs": [
        {
          "output_type": "execute_result",
          "data": {
            "text/plain": [
              "array([[10, 10,  6],\n",
              "       [40, 25, 12],\n",
              "       [70, 40, 18]])"
            ]
          },
          "metadata": {},
          "execution_count": 63
        }
      ]
    },
    {
      "cell_type": "code",
      "source": [
        "arr.mean(axis=0)"
      ],
      "metadata": {
        "colab": {
          "base_uri": "https://localhost:8080/"
        },
        "id": "QoGPM1YyoQ45",
        "outputId": "5fcd06be-6f79-4ba2-fead-480821494393"
      },
      "execution_count": null,
      "outputs": [
        {
          "output_type": "execute_result",
          "data": {
            "text/plain": [
              "array([4., 5., 6.])"
            ]
          },
          "metadata": {},
          "execution_count": 64
        }
      ]
    },
    {
      "cell_type": "code",
      "source": [
        "# generate matrices with differrent random numbers\n",
        "# it will return floart RANGE 0 to 1\n",
        "RandomRange = np.random.default_rng()\n",
        "RandomRange.random(5)\n"
      ],
      "metadata": {
        "colab": {
          "base_uri": "https://localhost:8080/"
        },
        "id": "RncZzszyjVHT",
        "outputId": "2aa6a2c9-35c9-4684-9129-fb452c7a817e"
      },
      "execution_count": null,
      "outputs": [
        {
          "output_type": "execute_result",
          "data": {
            "text/plain": [
              "array([0.07238314, 0.59680478, 0.30608223, 0.36312704, 0.65753047])"
            ]
          },
          "metadata": {},
          "execution_count": 65
        }
      ]
    },
    {
      "cell_type": "code",
      "source": [
        "# also\n",
        "RandomRange.random((4 , 2)) # list of four having 2 elements in each"
      ],
      "metadata": {
        "colab": {
          "base_uri": "https://localhost:8080/"
        },
        "id": "tNgv-CBY6-3t",
        "outputId": "01e65735-5832-4c81-d44f-55d238d17724"
      },
      "execution_count": null,
      "outputs": [
        {
          "output_type": "execute_result",
          "data": {
            "text/plain": [
              "array([[0.20660831, 0.51233849],\n",
              "       [0.64866621, 0.43819027],\n",
              "       [0.27060195, 0.30403   ],\n",
              "       [0.4039876 , 0.65755671]])"
            ]
          },
          "metadata": {},
          "execution_count": 66
        }
      ]
    },
    {
      "cell_type": "code",
      "source": [
        "RandomRange"
      ],
      "metadata": {
        "colab": {
          "base_uri": "https://localhost:8080/"
        },
        "id": "qbWLFWSi7TpW",
        "outputId": "3aa5ceec-3a6f-4cda-9cdb-90cae5588cca"
      },
      "execution_count": null,
      "outputs": [
        {
          "output_type": "execute_result",
          "data": {
            "text/plain": [
              "Generator(PCG64) at 0x781B11080820"
            ]
          },
          "metadata": {},
          "execution_count": 67
        }
      ]
    },
    {
      "cell_type": "code",
      "source": [
        "# generator # apply integer random numbers\n",
        "RandomRange.integers(low = 1 , high = 50 , size = (4,3)) # 50 is not included here"
      ],
      "metadata": {
        "colab": {
          "base_uri": "https://localhost:8080/"
        },
        "id": "K4ty8EZS7Vdr",
        "outputId": "a62283b4-c9a9-461e-a3f9-fc1259e868d1"
      },
      "execution_count": null,
      "outputs": [
        {
          "output_type": "execute_result",
          "data": {
            "text/plain": [
              "array([[48, 47, 35],\n",
              "       [26, 30, 18],\n",
              "       [24, 13,  9],\n",
              "       [28,  3,  6]])"
            ]
          },
          "metadata": {},
          "execution_count": 68
        }
      ]
    },
    {
      "cell_type": "code",
      "source": [
        "generator = np.random.default_rng()\n",
        "generator.integers(low=50 ,high = 101 , size=(3,2))"
      ],
      "metadata": {
        "colab": {
          "base_uri": "https://localhost:8080/"
        },
        "id": "2tOZC9HS8r4H",
        "outputId": "f0140b2a-b048-46f5-f372-0d69670736d0"
      },
      "execution_count": null,
      "outputs": [
        {
          "output_type": "execute_result",
          "data": {
            "text/plain": [
              "array([[84, 77],\n",
              "       [93, 62],\n",
              "       [82, 90]])"
            ]
          },
          "metadata": {},
          "execution_count": 69
        }
      ]
    },
    {
      "cell_type": "code",
      "source": [
        "RandomRange.random(size=(3,3))# will return in float\n",
        "# RandomRange.random(size=(3,3 ,4))# this is extremly user friendly"
      ],
      "metadata": {
        "colab": {
          "base_uri": "https://localhost:8080/"
        },
        "id": "FoswL-EpS4z3",
        "outputId": "4e934d18-1d6e-4cf4-abcb-a07eb3a6044d"
      },
      "execution_count": null,
      "outputs": [
        {
          "output_type": "execute_result",
          "data": {
            "text/plain": [
              "array([[0.99396129, 0.09366848, 0.72968486],\n",
              "       [0.14920649, 0.74045697, 0.19553653],\n",
              "       [0.78197608, 0.17260284, 0.5991006 ]])"
            ]
          },
          "metadata": {},
          "execution_count": 70
        }
      ]
    },
    {
      "cell_type": "code",
      "source": [
        "# print('hello i am wasting a lot of time guzra waqt kabhi wapis ata nhi')\n"
      ],
      "metadata": {
        "id": "5eKvHHAsR_uT"
      },
      "execution_count": null,
      "outputs": []
    },
    {
      "cell_type": "markdown",
      "source": [
        "# finding Unique Elements"
      ],
      "metadata": {
        "id": "POfJXtukU86E"
      }
    },
    {
      "cell_type": "code",
      "source": [
        "import numpy as np\n"
      ],
      "metadata": {
        "id": "XGnIKXPfU_5Q"
      },
      "execution_count": null,
      "outputs": []
    },
    {
      "cell_type": "code",
      "source": [
        "arr = np.array([1,4,2,3,5,2,1,4,6,1,1,2,3,1,5,4,6,6])"
      ],
      "metadata": {
        "id": "7YQFlzFhVbLU"
      },
      "execution_count": null,
      "outputs": []
    },
    {
      "cell_type": "code",
      "source": [
        "np.unique(arr) # give un a unique forms means will ignore repeating value\n"
      ],
      "metadata": {
        "colab": {
          "base_uri": "https://localhost:8080/"
        },
        "id": "dS8xnuGkVlW2",
        "outputId": "e136d796-d734-4c0a-8b05-e578977bbe32"
      },
      "execution_count": null,
      "outputs": [
        {
          "output_type": "execute_result",
          "data": {
            "text/plain": [
              "array([1, 2, 3, 4, 5, 6])"
            ]
          },
          "metadata": {},
          "execution_count": 74
        }
      ]
    },
    {
      "cell_type": "code",
      "source": [
        "np.unique(arr , return_index=True)"
      ],
      "metadata": {
        "colab": {
          "base_uri": "https://localhost:8080/"
        },
        "id": "nvnreyVjVrNq",
        "outputId": "2a865d35-438b-421f-9a11-8aeeaad979ef"
      },
      "execution_count": null,
      "outputs": [
        {
          "output_type": "execute_result",
          "data": {
            "text/plain": [
              "(array([1, 2, 3, 4, 5, 6]), array([0, 2, 3, 1, 4, 8]))"
            ]
          },
          "metadata": {},
          "execution_count": 75
        }
      ]
    },
    {
      "cell_type": "code",
      "source": [
        "np.unique(arr , return_index=True , return_counts=True)\n"
      ],
      "metadata": {
        "colab": {
          "base_uri": "https://localhost:8080/"
        },
        "id": "nVSSWbrUWQ7F",
        "outputId": "42a157f4-054e-4088-84de-370ac322b5c2"
      },
      "execution_count": null,
      "outputs": [
        {
          "output_type": "execute_result",
          "data": {
            "text/plain": [
              "(array([1, 2, 3, 4, 5, 6]),\n",
              " array([0, 2, 3, 1, 4, 8]),\n",
              " array([5, 3, 2, 3, 2, 3]))"
            ]
          },
          "metadata": {},
          "execution_count": 76
        }
      ]
    },
    {
      "cell_type": "code",
      "source": [
        "list = np.array([[1,3,1] ,\n",
        "                [3,3,3],\n",
        "                [1,3,1]])\n",
        "# list = np.array([[1,3,1] ,[3,3,3],[1,3,1]])\n",
        "list"
      ],
      "metadata": {
        "colab": {
          "base_uri": "https://localhost:8080/"
        },
        "id": "Q5b2uhisaV4T",
        "outputId": "50ff71c4-d0ff-407a-9883-cba9d807f11f"
      },
      "execution_count": null,
      "outputs": [
        {
          "output_type": "execute_result",
          "data": {
            "text/plain": [
              "array([[1, 3, 1],\n",
              "       [3, 3, 3],\n",
              "       [1, 3, 1]])"
            ]
          },
          "metadata": {},
          "execution_count": 40
        }
      ]
    },
    {
      "cell_type": "code",
      "source": [
        "np.unique(list , axis = 0 )# will not return identical row"
      ],
      "metadata": {
        "colab": {
          "base_uri": "https://localhost:8080/"
        },
        "id": "zpqeTUp5b3Vl",
        "outputId": "d117e972-3ad2-4032-97dd-9b06e9c5b2cb"
      },
      "execution_count": null,
      "outputs": [
        {
          "output_type": "execute_result",
          "data": {
            "text/plain": [
              "array([[1, 3, 1],\n",
              "       [3, 3, 3]])"
            ]
          },
          "metadata": {},
          "execution_count": 42
        }
      ]
    },
    {
      "cell_type": "code",
      "source": [
        "np.unique(list , axis = 1)# will not return identical column"
      ],
      "metadata": {
        "colab": {
          "base_uri": "https://localhost:8080/"
        },
        "id": "rkB5i4RYcMR2",
        "outputId": "29e4385e-8ac9-47e0-cf6c-c288f46b1b9b"
      },
      "execution_count": null,
      "outputs": [
        {
          "output_type": "execute_result",
          "data": {
            "text/plain": [
              "array([[1, 3],\n",
              "       [3, 3],\n",
              "       [1, 3]])"
            ]
          },
          "metadata": {},
          "execution_count": 44
        }
      ]
    },
    {
      "cell_type": "markdown",
      "source": [
        "# transposing and Reshaping arrays"
      ],
      "metadata": {
        "id": "ec3vFMTIcaK6"
      }
    },
    {
      "cell_type": "code",
      "source": [
        "arr  =  np.array([[1,2,3,4],[5,6,7,8]])\n",
        "arr"
      ],
      "metadata": {
        "colab": {
          "base_uri": "https://localhost:8080/"
        },
        "id": "5fJiboKhcd4I",
        "outputId": "125735a2-de1c-4fb1-d90c-30bd36285add"
      },
      "execution_count": null,
      "outputs": [
        {
          "output_type": "execute_result",
          "data": {
            "text/plain": [
              "array([[1, 2, 3, 4],\n",
              "       [5, 6, 7, 8]])"
            ]
          },
          "metadata": {},
          "execution_count": 45
        }
      ]
    },
    {
      "cell_type": "code",
      "source": [
        "arr.reshape(4,2) # 4 rows  2 columns"
      ],
      "metadata": {
        "colab": {
          "base_uri": "https://localhost:8080/"
        },
        "id": "SsJU2JkfdDl2",
        "outputId": "a51e245e-2710-4c69-d3b4-09bfc3fee5a2"
      },
      "execution_count": null,
      "outputs": [
        {
          "output_type": "execute_result",
          "data": {
            "text/plain": [
              "array([[1, 2],\n",
              "       [3, 4],\n",
              "       [5, 6],\n",
              "       [7, 8]])"
            ]
          },
          "metadata": {},
          "execution_count": 46
        }
      ]
    },
    {
      "cell_type": "code",
      "source": [
        "arr.reshape(1,8 )   # 1 row and 8 columns"
      ],
      "metadata": {
        "colab": {
          "base_uri": "https://localhost:8080/"
        },
        "id": "h8sSqafkdJ83",
        "outputId": "9aa8e015-d214-41c5-fa5c-077b7a056b56"
      },
      "execution_count": null,
      "outputs": [
        {
          "output_type": "execute_result",
          "data": {
            "text/plain": [
              "array([[1, 2, 3, 4, 5, 6, 7, 8]])"
            ]
          },
          "metadata": {},
          "execution_count": 49
        }
      ]
    },
    {
      "cell_type": "code",
      "source": [
        "arr"
      ],
      "metadata": {
        "colab": {
          "base_uri": "https://localhost:8080/"
        },
        "id": "qp6ShQrqdf6O",
        "outputId": "ee1841ca-67a2-4638-cd05-b86da15d78f4"
      },
      "execution_count": null,
      "outputs": [
        {
          "output_type": "execute_result",
          "data": {
            "text/plain": [
              "array([[1, 2, 3, 4],\n",
              "       [5, 6, 7, 8]])"
            ]
          },
          "metadata": {},
          "execution_count": 51
        }
      ]
    },
    {
      "cell_type": "code",
      "source": [
        "arr.transpose() # change the axes of an array"
      ],
      "metadata": {
        "colab": {
          "base_uri": "https://localhost:8080/"
        },
        "id": "bmvz7401dY_C",
        "outputId": "1e704b94-0af3-45e3-ea9e-6e16e6090f2f"
      },
      "execution_count": null,
      "outputs": [
        {
          "output_type": "execute_result",
          "data": {
            "text/plain": [
              "array([[1, 5],\n",
              "       [2, 6],\n",
              "       [3, 7],\n",
              "       [4, 8]])"
            ]
          },
          "metadata": {},
          "execution_count": 53
        }
      ]
    },
    {
      "cell_type": "code",
      "source": [
        "arr.transpose().transpose() # will return the original array"
      ],
      "metadata": {
        "colab": {
          "base_uri": "https://localhost:8080/"
        },
        "id": "ptzTmM2Ed8Z8",
        "outputId": "a749e3f4-dfd8-46ef-9e08-24564f0ee182"
      },
      "execution_count": null,
      "outputs": [
        {
          "output_type": "execute_result",
          "data": {
            "text/plain": [
              "array([[1, 2, 3, 4],\n",
              "       [5, 6, 7, 8]])"
            ]
          },
          "metadata": {},
          "execution_count": 55
        }
      ]
    },
    {
      "cell_type": "markdown",
      "source": [
        "# Reverse an array"
      ],
      "metadata": {
        "id": "nYEzOdO5eIkz"
      }
    },
    {
      "cell_type": "code",
      "source": [
        "import numpy as np\n",
        "arr = np.arange(8)\n",
        "arr"
      ],
      "metadata": {
        "colab": {
          "base_uri": "https://localhost:8080/"
        },
        "id": "uGDbhwIAeDaO",
        "outputId": "944c9590-3456-44b1-e919-71bf28530e96"
      },
      "execution_count": null,
      "outputs": [
        {
          "output_type": "execute_result",
          "data": {
            "text/plain": [
              "array([0, 1, 2, 3, 4, 5, 6, 7])"
            ]
          },
          "metadata": {},
          "execution_count": 57
        }
      ]
    },
    {
      "cell_type": "code",
      "source": [
        "arr[::-1]"
      ],
      "metadata": {
        "colab": {
          "base_uri": "https://localhost:8080/"
        },
        "id": "ONrReLvReR9M",
        "outputId": "7546682d-7cd8-4bd8-e2e9-b3cab71e1e41"
      },
      "execution_count": null,
      "outputs": [
        {
          "output_type": "execute_result",
          "data": {
            "text/plain": [
              "array([7, 6, 5, 4, 3, 2, 1, 0])"
            ]
          },
          "metadata": {},
          "execution_count": 59
        }
      ]
    },
    {
      "cell_type": "code",
      "source": [
        "# another method of reverse an array is\n",
        "np.flip(arr)"
      ],
      "metadata": {
        "colab": {
          "base_uri": "https://localhost:8080/"
        },
        "id": "dt2J4RX1eaBn",
        "outputId": "7a04c88c-3855-45c7-8437-faf30321b60d"
      },
      "execution_count": null,
      "outputs": [
        {
          "output_type": "execute_result",
          "data": {
            "text/plain": [
              "array([7, 6, 5, 4, 3, 2, 1, 0])"
            ]
          },
          "metadata": {},
          "execution_count": 60
        }
      ]
    },
    {
      "cell_type": "markdown",
      "source": [
        "WHAT ABOUT 2-D LIST (MATRICES)"
      ],
      "metadata": {
        "id": "dha7_O1keq4f"
      }
    },
    {
      "cell_type": "code",
      "source": [
        "two_d = np.array([[1,2,3],[4,5,6],[7,8,9]])\n",
        "two_d"
      ],
      "metadata": {
        "colab": {
          "base_uri": "https://localhost:8080/"
        },
        "id": "2gPhEYaKeuyR",
        "outputId": "42aa1a99-2dd7-4779-c42a-b7a4cbd4d3f3"
      },
      "execution_count": null,
      "outputs": [
        {
          "output_type": "execute_result",
          "data": {
            "text/plain": [
              "array([[1, 2, 3],\n",
              "       [4, 5, 6],\n",
              "       [7, 8, 9]])"
            ]
          },
          "metadata": {},
          "execution_count": 61
        }
      ]
    },
    {
      "cell_type": "code",
      "source": [
        "# if we do like this we will get slighty diiferent result\n",
        "two_d[::-1]"
      ],
      "metadata": {
        "colab": {
          "base_uri": "https://localhost:8080/"
        },
        "id": "wrzzY7jKfRoX",
        "outputId": "d914f8b9-0d66-4b68-b938-8f49c7cf731c"
      },
      "execution_count": null,
      "outputs": [
        {
          "output_type": "execute_result",
          "data": {
            "text/plain": [
              "array([[7, 8, 9],\n",
              "       [4, 5, 6],\n",
              "       [1, 2, 3]])"
            ]
          },
          "metadata": {},
          "execution_count": 64
        }
      ]
    },
    {
      "cell_type": "code",
      "source": [
        "# we can speicify the axes\n",
        "np.flip(two_d)"
      ],
      "metadata": {
        "colab": {
          "base_uri": "https://localhost:8080/"
        },
        "id": "LJBJ5Kt4e-b2",
        "outputId": "ef3c3161-b337-498a-8450-e12e69f48c3f"
      },
      "execution_count": null,
      "outputs": [
        {
          "output_type": "execute_result",
          "data": {
            "text/plain": [
              "array([[9, 8, 7],\n",
              "       [6, 5, 4],\n",
              "       [3, 2, 1]])"
            ]
          },
          "metadata": {},
          "execution_count": 63
        }
      ]
    },
    {
      "cell_type": "code",
      "source": [
        "np.flip(two_d , axis = 0)\n"
      ],
      "metadata": {
        "colab": {
          "base_uri": "https://localhost:8080/"
        },
        "id": "rF_RrW4-fB7Z",
        "outputId": "10d23b12-2cf0-4379-d3af-fa88a6e837ff"
      },
      "execution_count": null,
      "outputs": [
        {
          "output_type": "execute_result",
          "data": {
            "text/plain": [
              "array([[7, 8, 9],\n",
              "       [4, 5, 6],\n",
              "       [1, 2, 3]])"
            ]
          },
          "metadata": {},
          "execution_count": 66
        }
      ]
    },
    {
      "cell_type": "code",
      "source": [
        "np.flip(two_d , axis = 1)"
      ],
      "metadata": {
        "colab": {
          "base_uri": "https://localhost:8080/"
        },
        "id": "eQ3HYIx3fqvJ",
        "outputId": "b3defe68-b550-4ed5-e7f2-74d09e101834"
      },
      "execution_count": null,
      "outputs": [
        {
          "output_type": "execute_result",
          "data": {
            "text/plain": [
              "array([[3, 2, 1],\n",
              "       [6, 5, 4],\n",
              "       [9, 8, 7]])"
            ]
          },
          "metadata": {},
          "execution_count": 68
        }
      ]
    },
    {
      "cell_type": "code",
      "source": [
        "np.flip(two_d[2])"
      ],
      "metadata": {
        "colab": {
          "base_uri": "https://localhost:8080/"
        },
        "id": "DGv_Dz51gJB_",
        "outputId": "2feff3f4-23b0-421d-e05d-d563dc6f94d2"
      },
      "execution_count": null,
      "outputs": [
        {
          "output_type": "execute_result",
          "data": {
            "text/plain": [
              "array([9, 8, 7])"
            ]
          },
          "metadata": {},
          "execution_count": 70
        }
      ]
    },
    {
      "cell_type": "code",
      "source": [
        "two_d"
      ],
      "metadata": {
        "colab": {
          "base_uri": "https://localhost:8080/"
        },
        "id": "akWw-OOagU1R",
        "outputId": "0b3b9dd2-3af2-4f2a-95f0-037991e85c93"
      },
      "execution_count": null,
      "outputs": [
        {
          "output_type": "execute_result",
          "data": {
            "text/plain": [
              "array([[1, 2, 3],\n",
              "       [4, 5, 6],\n",
              "       [7, 8, 9]])"
            ]
          },
          "metadata": {},
          "execution_count": 71
        }
      ]
    },
    {
      "cell_type": "code",
      "source": [
        "np.flip(two_d[: , 2]) # reverse a single column at the index two"
      ],
      "metadata": {
        "colab": {
          "base_uri": "https://localhost:8080/"
        },
        "id": "_OFzrIqxgV4f",
        "outputId": "d09f9f4c-d78e-4f77-8a2d-a0fd6bcc58cc"
      },
      "execution_count": null,
      "outputs": [
        {
          "output_type": "execute_result",
          "data": {
            "text/plain": [
              "array([9, 6, 3])"
            ]
          },
          "metadata": {},
          "execution_count": 72
        }
      ]
    },
    {
      "cell_type": "markdown",
      "source": [
        "# reshaping and flattenting multidimensal arrays"
      ],
      "metadata": {
        "id": "F1Tu6kndgtBh"
      }
    },
    {
      "cell_type": "code",
      "source": [
        "arr =  np.array([[1,2,3,11],[4,5,6,12],[7,8,9,13]])\n",
        "arr"
      ],
      "metadata": {
        "colab": {
          "base_uri": "https://localhost:8080/"
        },
        "id": "SkUmQ2-6gzZy",
        "outputId": "eba8fbe3-b664-4b97-e692-29018a44072a"
      },
      "execution_count": null,
      "outputs": [
        {
          "output_type": "execute_result",
          "data": {
            "text/plain": [
              "array([[ 1,  2,  3, 11],\n",
              "       [ 4,  5,  6, 12],\n",
              "       [ 7,  8,  9, 13]])"
            ]
          },
          "metadata": {},
          "execution_count": 73
        }
      ]
    },
    {
      "cell_type": "code",
      "source": [
        "# flattening means converting multidimensional into 1-D dimension\n",
        "arr.flatten()\n",
        "arr.ravel() # both are same there is minor mistake which we are going to look at it\n",
        "# THE DIIFERENCE IS FALTTERN IS NOT AFFECT THE ORIGINAL ARRAY ON THE OTHER HAND RAVEL DO (change the original array) eaxmple"
      ],
      "metadata": {
        "colab": {
          "base_uri": "https://localhost:8080/"
        },
        "id": "j0tKvTCuhDIY",
        "outputId": "4e692527-e99a-4df3-cb1b-3cff93efa5d7"
      },
      "execution_count": null,
      "outputs": [
        {
          "output_type": "execute_result",
          "data": {
            "text/plain": [
              "array([ 1,  2,  3, 11,  4,  5,  6, 12,  7,  8,  9, 13])"
            ]
          },
          "metadata": {},
          "execution_count": 76
        }
      ]
    },
    {
      "cell_type": "code",
      "source": [
        "flatten = arr.flatten()\n",
        "flatten[0]= 10\n",
        "flatten"
      ],
      "metadata": {
        "colab": {
          "base_uri": "https://localhost:8080/"
        },
        "id": "2tNTBUnEhPcS",
        "outputId": "66050781-fc2f-43ce-86f3-6d0cb2f0597f"
      },
      "execution_count": null,
      "outputs": [
        {
          "output_type": "execute_result",
          "data": {
            "text/plain": [
              "array([10,  2,  3, 11,  4,  5,  6, 12,  7,  8,  9, 13])"
            ]
          },
          "metadata": {},
          "execution_count": 78
        }
      ]
    },
    {
      "cell_type": "code",
      "source": [
        "arr"
      ],
      "metadata": {
        "colab": {
          "base_uri": "https://localhost:8080/"
        },
        "id": "PLWqARzFiMbh",
        "outputId": "1c8e4026-ce87-4a0a-eda8-5a2e7ae7bbbd"
      },
      "execution_count": null,
      "outputs": [
        {
          "output_type": "execute_result",
          "data": {
            "text/plain": [
              "array([[ 1,  2,  3, 11],\n",
              "       [ 4,  5,  6, 12],\n",
              "       [ 7,  8,  9, 13]])"
            ]
          },
          "metadata": {},
          "execution_count": 80
        }
      ]
    },
    {
      "cell_type": "code",
      "source": [
        "ravel = arr.ravel()\n",
        "ravel[0] = 10\n",
        "ravel"
      ],
      "metadata": {
        "colab": {
          "base_uri": "https://localhost:8080/"
        },
        "id": "rZVS8txGiM8-",
        "outputId": "498dff88-28cd-4722-ef7c-ff410b28804c"
      },
      "execution_count": null,
      "outputs": [
        {
          "output_type": "execute_result",
          "data": {
            "text/plain": [
              "array([10,  2,  3, 11,  4,  5,  6, 12,  7,  8,  9, 13])"
            ]
          },
          "metadata": {},
          "execution_count": 81
        }
      ]
    },
    {
      "cell_type": "code",
      "source": [
        "arr"
      ],
      "metadata": {
        "colab": {
          "base_uri": "https://localhost:8080/"
        },
        "id": "gtNuxy1yitbO",
        "outputId": "8d762198-acce-4c0c-c918-ec692e577e9d"
      },
      "execution_count": null,
      "outputs": [
        {
          "output_type": "execute_result",
          "data": {
            "text/plain": [
              "array([[10,  2,  3, 11],\n",
              "       [ 4,  5,  6, 12],\n",
              "       [ 7,  8,  9, 13]])"
            ]
          },
          "metadata": {},
          "execution_count": 82
        }
      ]
    },
    {
      "cell_type": "markdown",
      "source": [
        "# saving and loading arrays"
      ],
      "metadata": {
        "id": "O2M0sWqciz3l"
      }
    },
    {
      "cell_type": "code",
      "source": [
        "arr = np.array([[1,2,3,4],[5,6,7,8]])\n",
        "arr\n"
      ],
      "metadata": {
        "colab": {
          "base_uri": "https://localhost:8080/"
        },
        "id": "XJz56V8Ri1uI",
        "outputId": "4e410eeb-c45c-4e50-bbf8-6a0afbbd247e"
      },
      "execution_count": null,
      "outputs": [
        {
          "output_type": "execute_result",
          "data": {
            "text/plain": [
              "array([[1, 2, 3, 4],\n",
              "       [5, 6, 7, 8]])"
            ]
          },
          "metadata": {},
          "execution_count": 83
        }
      ]
    },
    {
      "cell_type": "markdown",
      "source": [
        "np.save(\"file name\" , name of list) Extension should be .npy with the file name  & store single object(list)\n",
        "\n",
        "np.savez(\"file name\" , name of list) Extension should be .npz with the file name  & store multi objects(many list)"
      ],
      "metadata": {
        "id": "0TOx8-3OksIf"
      }
    },
    {
      "cell_type": "code",
      "source": [
        "np.save(\"my_new_array.npy\" , arr) # saving it as a numpy binary file\n"
      ],
      "metadata": {
        "id": "DLvx40DkkBoq"
      },
      "execution_count": null,
      "outputs": []
    },
    {
      "cell_type": "code",
      "source": [
        "np.load(\"my_new_array.npy\")"
      ],
      "metadata": {
        "colab": {
          "base_uri": "https://localhost:8080/"
        },
        "id": "yd73yDaZkJxy",
        "outputId": "542e2f22-e147-4c0c-f13a-4eba7498acc1"
      },
      "execution_count": null,
      "outputs": [
        {
          "output_type": "execute_result",
          "data": {
            "text/plain": [
              "array([[1, 2, 3, 4],\n",
              "       [5, 6, 7, 8]])"
            ]
          },
          "metadata": {},
          "execution_count": 86
        }
      ]
    },
    {
      "cell_type": "markdown",
      "source": [
        "EFFICIENCE WAY TO STORE LIST IS IN THE BINARY FORMS\n",
        "\n",
        "\n",
        "we can also save .txt an .csv files\n",
        "\n",
        "np.savetxt(same format) no matter csv file or txt file we always use save.txt"
      ],
      "metadata": {
        "id": "-vdAJypwlLNV"
      }
    },
    {
      "cell_type": "code",
      "source": [
        "np.savetxt(\"my_text_file.txt\" , arr )\n",
        "# np.savetxt(\"my_text_file.csv\" , arr)"
      ],
      "metadata": {
        "id": "Hg9l_02LkO4O"
      },
      "execution_count": null,
      "outputs": []
    },
    {
      "cell_type": "code",
      "source": [
        "np.loadtxt(\"my_text_file.txt\")# both will give same result"
      ],
      "metadata": {
        "colab": {
          "base_uri": "https://localhost:8080/"
        },
        "id": "aHSHNcTKmPAF",
        "outputId": "ced60348-5fe7-499a-a0c8-f3ef1e7e017c"
      },
      "execution_count": null,
      "outputs": [
        {
          "output_type": "execute_result",
          "data": {
            "text/plain": [
              "array([[1., 2., 3., 4.],\n",
              "       [5., 6., 7., 8.]])"
            ]
          },
          "metadata": {},
          "execution_count": 97
        }
      ]
    },
    {
      "cell_type": "code",
      "source": [],
      "metadata": {
        "id": "XiDL89XOmVFH"
      },
      "execution_count": null,
      "outputs": []
    }
  ]
}